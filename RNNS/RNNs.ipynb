{
  "nbformat": 4,
  "nbformat_minor": 0,
  "metadata": {
    "colab": {
      "name": "RNNs.ipynb",
      "provenance": [],
      "collapsed_sections": [],
      "authorship_tag": "ABX9TyMNpzliEpXr8QxWpRJEJPKa",
      "include_colab_link": true
    },
    "kernelspec": {
      "name": "python3",
      "display_name": "Python 3"
    },
    "language_info": {
      "name": "python"
    }
  },
  "cells": [
    {
      "cell_type": "markdown",
      "metadata": {
        "id": "view-in-github",
        "colab_type": "text"
      },
      "source": [
        "<a href=\"https://colab.research.google.com/github/geehaad/Algorithms/blob/main/RNNS/RNNs.ipynb\" target=\"_parent\"><img src=\"https://colab.research.google.com/assets/colab-badge.svg\" alt=\"Open In Colab\"/></a>"
      ]
    },
    {
      "cell_type": "code",
      "source": [
        "pip install tensorflow"
      ],
      "metadata": {
        "id": "1cGojno5ZZ-J"
      },
      "execution_count": null,
      "outputs": []
    },
    {
      "cell_type": "markdown",
      "source": [
        "# Implement RNNs from Scratch"
      ],
      "metadata": {
        "id": "QxY7BI7XLuzT"
      }
    },
    {
      "cell_type": "code",
      "source": [
        "import tensorflow as tf"
      ],
      "metadata": {
        "id": "bzs7nWDXZj0A"
      },
      "execution_count": 2,
      "outputs": []
    },
    {
      "cell_type": "code",
      "execution_count": 3,
      "metadata": {
        "id": "Z6eyaUHKMyOU"
      },
      "outputs": [],
      "source": [
        "class MyRNNCell(tf.keras.layers.Layer):\n",
        "  def __init__(self, rnn_units, input_dim, output_dim):\n",
        "    super(MyRNNCell, self).__init__()\n",
        "\n",
        "    # Initialize weight matrices\n",
        "    self.W_xh = self.add_weight([rnn_units, input_dim])\n",
        "    self.W_hh = self.add_weight([rnn_units, rnn_units])\n",
        "    self.W_hy = self.add_weight([output_dim, rnn_units])\n",
        "\n",
        "    # Initialize hidden state to zeros\n",
        "    self.h = tf.zeros([rnn_units, 1])\n",
        "\n",
        "  def call(self, x):\n",
        "    # Update the hidden state\n",
        "    self.h = tf.math.tanh(self.W_hh * self.h* self.W_sh * x)\n",
        "\n",
        "    # Compute the output\n",
        "    output = self.W_hy * self.h\n",
        "\n",
        "    # Return the current output and hidden state\n",
        "    return output, self.h"
      ]
    },
    {
      "cell_type": "markdown",
      "source": [
        "# Implement RNNs using Tensorflow "
      ],
      "metadata": {
        "id": "QY520bjILyHn"
      }
    },
    {
      "cell_type": "code",
      "source": [
        "tf.keras.layers.SimpleRNN(rnn_units)"
      ],
      "metadata": {
        "id": "e5hWVO9nL42T"
      },
      "execution_count": null,
      "outputs": []
    }
  ]
}